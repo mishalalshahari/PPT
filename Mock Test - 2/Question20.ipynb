{
 "cells": [
  {
   "cell_type": "code",
   "execution_count": 3,
   "metadata": {},
   "outputs": [
    {
     "name": "stdout",
     "output_type": "stream",
     "text": [
      "P-value: 0.09434977284243756\n",
      "t_statistica value: -1.8973665961010275\n"
     ]
    }
   ],
   "source": [
    "from scipy import stats\n",
    "def hypothesis_test(sample1, sample2):\n",
    "    tstat,pvalue = stats.ttest_ind(sample1, sample2)\n",
    "    return pvalue,tstat\n",
    "\n",
    "sample1 = [5, 10, 15, 20, 25]\n",
    "sample2 = [10, 20, 30, 40, 50]\n",
    "p,t = hypothesis_test(sample1, sample2)\n",
    "print(\"P-value:\", p)\n",
    "print(\"t_statistica value:\",t)"
   ]
  },
  {
   "cell_type": "code",
   "execution_count": null,
   "metadata": {},
   "outputs": [],
   "source": []
  }
 ],
 "metadata": {
  "kernelspec": {
   "display_name": "dsm",
   "language": "python",
   "name": "python3"
  },
  "language_info": {
   "codemirror_mode": {
    "name": "ipython",
    "version": 3
   },
   "file_extension": ".py",
   "mimetype": "text/x-python",
   "name": "python",
   "nbconvert_exporter": "python",
   "pygments_lexer": "ipython3",
   "version": "3.7.16"
  },
  "orig_nbformat": 4
 },
 "nbformat": 4,
 "nbformat_minor": 2
}
